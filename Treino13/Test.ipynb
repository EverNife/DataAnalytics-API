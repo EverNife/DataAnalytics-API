{
 "cells": [
  {
   "cell_type": "markdown",
   "source": [
    "# FCT Unesp\n",
    "Aluno: Pétrus Antonio Bárbosa Pradella"
   ],
   "metadata": {
    "collapsed": false
   }
  },
  {
   "cell_type": "markdown",
   "source": [
    "##### Importando bibliotecas"
   ],
   "metadata": {
    "collapsed": false
   }
  },
  {
   "cell_type": "code",
   "execution_count": null,
   "outputs": [],
   "source": [
    "import pandas as pd\n",
    "import matplotlib.pyplot as plt\n",
    "import plotly.express as px\n",
    "from statsmodels.graphics.tsaplots import plot_acf, plot_pacf\n",
    "from statsmodels.tsa.arima_model import ARIMA\n",
    "from statsmodels.tsa.statespace.mlemodel import MLEResults\n",
    "import datetime"
   ],
   "metadata": {
    "collapsed": false,
    "pycharm": {
     "name": "#%%\n"
    }
   }
  },
  {
   "cell_type": "code",
   "execution_count": 1,
   "outputs": [],
   "source": [
    "pred = (([10641.97455849, 11314.15105307, 11976.75170441, 12629.9936932 ,\n",
    "       13274.08927446, 13909.24588925, 14535.66627385, 15153.54856649,\n",
    "       15763.08641158, 16364.4690617 , 16957.88147714, 17543.5044233 ]),\n",
    "        \n",
    "        ([  58.66328973,  129.98644183,  215.61611446,  312.9283125 ,\n",
    "        420.11639452,  535.84609477,  659.07801584,  788.97122213,\n",
    "        924.82623775, 1066.04893307, 1212.12636535, 1362.60989832]), ([[10526.9966234 , 10756.95249358],\n",
    "       [11059.3823086 , 11568.91979754],\n",
    "       [11554.15188559, 12399.35152323],\n",
    "       [12016.66547095, 13243.32191545],\n",
    "       [12450.67627188, 14097.50227704],\n",
    "       [12859.00684225, 14959.48493624],\n",
    "       [13243.89709981, 15827.43544789],\n",
    "       [13607.19338627, 16699.9037467 ],\n",
    "       [13950.46029363, 17575.71252953],\n",
    "       [14275.05154712, 18453.88657627],\n",
    "       [14582.15745634, 19333.60549794],\n",
    "       [14872.83809761, 20214.17074899]]));"
   ],
   "metadata": {
    "collapsed": false,
    "pycharm": {
     "name": "#%%\n"
    }
   }
  },
  {
   "cell_type": "code",
   "execution_count": 2,
   "outputs": [
    {
     "data": {
      "text/plain": "([10641.97455849,\n  11314.15105307,\n  11976.75170441,\n  12629.9936932,\n  13274.08927446,\n  13909.24588925,\n  14535.66627385,\n  15153.54856649,\n  15763.08641158,\n  16364.4690617,\n  16957.88147714,\n  17543.5044233],\n [58.66328973,\n  129.98644183,\n  215.61611446,\n  312.9283125,\n  420.11639452,\n  535.84609477,\n  659.07801584,\n  788.97122213,\n  924.82623775,\n  1066.04893307,\n  1212.12636535,\n  1362.60989832],\n [[10526.9966234, 10756.95249358],\n  [11059.3823086, 11568.91979754],\n  [11554.15188559, 12399.35152323],\n  [12016.66547095, 13243.32191545],\n  [12450.67627188, 14097.50227704],\n  [12859.00684225, 14959.48493624],\n  [13243.89709981, 15827.43544789],\n  [13607.19338627, 16699.9037467],\n  [13950.46029363, 17575.71252953],\n  [14275.05154712, 18453.88657627],\n  [14582.15745634, 19333.60549794],\n  [14872.83809761, 20214.17074899]])"
     },
     "execution_count": 2,
     "metadata": {},
     "output_type": "execute_result"
    }
   ],
   "source": [
    "pred"
   ],
   "metadata": {
    "collapsed": false,
    "pycharm": {
     "name": "#%%\n"
    }
   }
  },
  {
   "cell_type": "code",
   "source": [
    "import pandas as pd\n",
    "from datetime import timedelta\n",
    "ultimo_dia = pd.to_datetime('05-08-2020');\n",
    "df_pred = pd.DataFrame(columns=['date', 'deaths']);\n",
    "for previsao in pred[0]:\n",
    "    ultimo_dia = ultimo_dia + timedelta(days=1)\n",
    "    df_pred = pd.concat([df_pred, pd.DataFrame(data={'date': [ultimo_dia], 'deaths' : [previsao]})], axis=0)\n",
    "\n",
    "\n",
    "\n"
   ],
   "metadata": {
    "collapsed": false,
    "pycharm": {
     "name": "#%%\n"
    }
   },
   "execution_count": 38,
   "outputs": [
    {
     "name": "stdout",
     "output_type": "stream",
     "text": [
      "2020-05-09 00:00:00 10641.97455849\n",
      "2020-05-10 00:00:00 11314.15105307\n",
      "2020-05-11 00:00:00 11976.75170441\n",
      "2020-05-12 00:00:00 12629.9936932\n",
      "2020-05-13 00:00:00 13274.08927446\n",
      "2020-05-14 00:00:00 13909.24588925\n",
      "2020-05-15 00:00:00 14535.66627385\n",
      "2020-05-16 00:00:00 15153.54856649\n",
      "2020-05-17 00:00:00 15763.08641158\n",
      "2020-05-18 00:00:00 16364.4690617\n",
      "2020-05-19 00:00:00 16957.88147714\n",
      "2020-05-20 00:00:00 17543.5044233\n"
     ]
    },
    {
     "data": {
      "text/plain": "        date        deaths\n0 2020-05-09  10641.974558\n0 2020-05-10  11314.151053\n0 2020-05-11  11976.751704\n0 2020-05-12  12629.993693\n0 2020-05-13  13274.089274\n0 2020-05-14  13909.245889\n0 2020-05-15  14535.666274\n0 2020-05-16  15153.548566\n0 2020-05-17  15763.086412\n0 2020-05-18  16364.469062",
      "text/html": "<div>\n<style scoped>\n    .dataframe tbody tr th:only-of-type {\n        vertical-align: middle;\n    }\n\n    .dataframe tbody tr th {\n        vertical-align: top;\n    }\n\n    .dataframe thead th {\n        text-align: right;\n    }\n</style>\n<table border=\"1\" class=\"dataframe\">\n  <thead>\n    <tr style=\"text-align: right;\">\n      <th></th>\n      <th>date</th>\n      <th>deaths</th>\n    </tr>\n  </thead>\n  <tbody>\n    <tr>\n      <th>0</th>\n      <td>2020-05-09</td>\n      <td>10641.974558</td>\n    </tr>\n    <tr>\n      <th>0</th>\n      <td>2020-05-10</td>\n      <td>11314.151053</td>\n    </tr>\n    <tr>\n      <th>0</th>\n      <td>2020-05-11</td>\n      <td>11976.751704</td>\n    </tr>\n    <tr>\n      <th>0</th>\n      <td>2020-05-12</td>\n      <td>12629.993693</td>\n    </tr>\n    <tr>\n      <th>0</th>\n      <td>2020-05-13</td>\n      <td>13274.089274</td>\n    </tr>\n    <tr>\n      <th>0</th>\n      <td>2020-05-14</td>\n      <td>13909.245889</td>\n    </tr>\n    <tr>\n      <th>0</th>\n      <td>2020-05-15</td>\n      <td>14535.666274</td>\n    </tr>\n    <tr>\n      <th>0</th>\n      <td>2020-05-16</td>\n      <td>15153.548566</td>\n    </tr>\n    <tr>\n      <th>0</th>\n      <td>2020-05-17</td>\n      <td>15763.086412</td>\n    </tr>\n    <tr>\n      <th>0</th>\n      <td>2020-05-18</td>\n      <td>16364.469062</td>\n    </tr>\n  </tbody>\n</table>\n</div>"
     },
     "execution_count": 38,
     "metadata": {},
     "output_type": "execute_result"
    }
   ]
  },
  {
   "cell_type": "code",
   "execution_count": null,
   "outputs": [],
   "source": [
    "\n"
   ],
   "metadata": {
    "collapsed": false,
    "pycharm": {
     "name": "#%%\n"
    }
   }
  }
 ],
 "metadata": {
  "colab": {
   "collapsed_sections": [],
   "name": "Live Regressão.ipynb",
   "provenance": [],
   "version": "0.3.2"
  },
  "kernelspec": {
   "display_name": "Python 3",
   "language": "python",
   "name": "python3"
  },
  "language_info": {
   "codemirror_mode": {
    "name": "ipython",
    "version": 3
   },
   "file_extension": ".py",
   "mimetype": "text/x-python",
   "name": "python",
   "nbconvert_exporter": "python",
   "pygments_lexer": "ipython3",
   "version": "3.7.3"
  }
 },
 "nbformat": 4,
 "nbformat_minor": 1
}