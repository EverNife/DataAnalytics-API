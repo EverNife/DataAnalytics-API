{
 "cells": [
  {
   "cell_type": "markdown",
   "metadata": {},
   "source": [
    "# Introdução\n",
    "\n",
    "![](https://i.imgur.com/Stv7spo.jpg)\n",
    "\n",
    "O Coronavírus, causador da pandemia global, pertence a uma família de vírus (CoV) que já circula no Brasil. Os vírus dessa família podem causar desde resfriados comuns a doenças mais graves, como a Síndrome Aguda Respiratória Severa (SARS) e a Síndrome Respiratória do Oriente Médio (MERS).\n",
    "\n",
    "O Novo Coronavírus recebeu a denominação SARS-CoV-2 pela Organização Mundial da Saúde (OMS) e a doença que ele provoca tem a denominação COVID-19."
   ]
  },
  {
   "cell_type": "markdown",
   "metadata": {},
   "source": [
    "# Descrição do Modelo\n",
    "\n",
    "Neste notebook será utilizado o algorítimo ARVORE ALEATÓRIA (Random forests _ou_ Random Decision Forests) para realizar um forecast (previsão) do numero de mortes ocorridas no Brasil, em destaque no Estado de São Paulo.\n",
    "\n",
    "O processo realizado nesse notebook segue o seguinte roteiro:\n",
    "\n",
    "1. Importação dos dados fornecidos pelo [Ministério da Saúde](https://covid.saude.gov.br/), e a nível municipal, pelo [Brasil.io](https://brasil.io/dataset/covid19/caso/);\n",
    "2. Análise visual dos dados;\n",
    "3. Tratamento dos dados e aplicação do algorítimo\n",
    "4.\n",
    "5."
   ]
  },
  {
   "cell_type": "markdown",
   "metadata": {},
   "source": [
    "# Notebook\n",
    "\n",
    "### Importação de Bibliotecas"
   ]
  },
  {
   "cell_type": "code",
   "execution_count": 1,
   "metadata": {
    "pycharm": {
     "name": "#%%\n"
    }
   },
   "outputs": [],
   "source": [
    "import time\n",
    "import numpy as np\n",
    "import pandas as pd\n",
    "import seaborn as sns\n",
    "import matplotlib.pyplot as plt\n",
    "from pandas import Series, DataFrame\n",
    "from sklearn.model_selection import train_test_split\n",
    "from sklearn.tree import DecisionTreeClassifier\n",
    "from django.core.validators import URLValidator\n",
    "from sklearn import metrics\n",
    "from sklearn.metrics import classification_report, confusion_matrix\n",
    "import plotly.express as px\n"
   ]
  },
  {
   "cell_type": "markdown",
   "metadata": {},
   "source": [
    "# Tratamento e Visualização dos dados"
   ]
  },
  {
   "cell_type": "markdown",
   "metadata": {},
   "source": [
    "### No Brasil\n"
   ]
  },
  {
   "cell_type": "code",
   "execution_count": 2,
   "metadata": {
    "pycharm": {
     "name": "#%%\n"
    }
   },
   "outputs": [],
   "source": [
    "#Ultimos 10 dias  de morte no BRASIL!\n",
    "original_df = pd.read_csv(\"cases-brazil-states-18-05-2020.csv\");\n",
    "df_br = original_df.filter(['date', 'state', 'deaths']);\n",
    "df_br = df_br.loc[df_br['state'] == \"TOTAL\"];\n",
    "\n",
    "### Declarando classe auxiliadora"
   ]
  },
  {
   "cell_type": "code",
   "execution_count": 3,
   "metadata": {
    "pycharm": {
     "name": "#%%\n"
    }
   },
   "outputs": [],
   "source": [
    "from myownapi.AnalyticsXGBoost import AnalyticsXGBoost;\n",
    "analytics = AnalyticsXGBoost();\n",
    "\n",
    "#NOTA: Classe ocultada pois estou no meu pc, ela fica em outra pasta!"
   ]
  },
  {
   "cell_type": "markdown",
   "metadata": {},
   "source": [
    "# Aplicando XGBoost\n",
    "\n",
    "O modelo XGBoost é aplicado utilizando a classe auxiliadora declarada acima.\n",
    "\n",
    "## No Brasil"
   ]
  },
  {
   "cell_type": "code",
   "execution_count": 4,
   "metadata": {
    "pycharm": {
     "name": "#%%\n"
    }
   },
   "outputs": [],
   "source": [
    "original_df = None; #Deleta isso para lagar menos a IDE"
   ]
  },
  {
   "cell_type": "code",
   "execution_count": 5,
   "metadata": {
    "pycharm": {
     "name": "#%%\n"
    }
   },
   "outputs": [],
   "source": [
    "df_br_altered = df_br.filter(['deaths']);\n",
    "df_br_altered = df_br_altered.reset_index(drop=True)\n",
    "df_br_altered['date'] = df_br_altered.index.copy();\n",
    "df_br_altered = df_br_altered.iloc[21:] #Removendo os primerios 21  dias devido a auxencia de mortes"
   ]
  },
  {
   "cell_type": "markdown",
   "metadata": {
    "pycharm": {
     "name": "#%% md\n"
    }
   },
   "source": [
    "Para prejudica menos o algorítimo de flore elatória, removemos os primeiros 23 dias por nao constatarem nenhuma morte."
   ]
  },
  {
   "cell_type": "code",
   "execution_count": 6,
   "metadata": {
    "pycharm": {
     "name": "#%%\n"
    }
   },
   "outputs": [
    {
     "name": "stdout",
     "output_type": "stream",
     "text": [
      "Aplicando ARVORE DE DECISÃO para os dados nacionais\n",
      "Atributos de precisão definidos para:\n",
      "-->  date\n",
      "Total de 1 atributos.\n",
      "Definindo atributo desejado para: deaths\n",
      "Porcentagem de Teste definido para: 20%\n",
      "Porcentagem de Treino definido para: 80%\n",
      "Iniciando XGBoostRegressor\n",
      "[06:57:25] WARNING: src/objective/regression_obj.cu:152: reg:linear is now deprecated in favor of reg:squarederror.\n",
      "XGBoost aplicado com sucesso!\n"
     ]
    }
   ],
   "source": [
    "print(\"Aplicando ARVORE DE DECISÃO para os dados nacionais\")\n",
    "analytics_br = AnalyticsXGBoost();\n",
    "analytics_br.df = df_br_altered;\n",
    "analytics_br.definirAtributosDePrecisao(['date'])\n",
    "analytics_br.definirAtributoDesejado('deaths');\n",
    "analytics_br.definirPorcentagemDeTeste(20);\n",
    "analytics_br.aplicarXGBoost();"
   ]
  },
  {
   "cell_type": "code",
   "execution_count": 7,
   "outputs": [
    {
     "data": {
      "text/plain": "    Atual     Predição\n71   8597  7935.657715\n72   9268  7935.657715\n73  10027  7935.657715\n74  10697  7935.657715\n75  11175  7935.657715\n76  11659  7935.657715\n77  12502  7935.657715\n78  13280  7935.657715\n79  14069  7935.657715\n80  14982  7935.657715\n81  15697  7935.657715\n82  16199  7935.657715\n83  16902  7935.657715",
      "text/html": "<div>\n<style scoped>\n    .dataframe tbody tr th:only-of-type {\n        vertical-align: middle;\n    }\n\n    .dataframe tbody tr th {\n        vertical-align: top;\n    }\n\n    .dataframe thead th {\n        text-align: right;\n    }\n</style>\n<table border=\"1\" class=\"dataframe\">\n  <thead>\n    <tr style=\"text-align: right;\">\n      <th></th>\n      <th>Atual</th>\n      <th>Predição</th>\n    </tr>\n  </thead>\n  <tbody>\n    <tr>\n      <th>71</th>\n      <td>8597</td>\n      <td>7935.657715</td>\n    </tr>\n    <tr>\n      <th>72</th>\n      <td>9268</td>\n      <td>7935.657715</td>\n    </tr>\n    <tr>\n      <th>73</th>\n      <td>10027</td>\n      <td>7935.657715</td>\n    </tr>\n    <tr>\n      <th>74</th>\n      <td>10697</td>\n      <td>7935.657715</td>\n    </tr>\n    <tr>\n      <th>75</th>\n      <td>11175</td>\n      <td>7935.657715</td>\n    </tr>\n    <tr>\n      <th>76</th>\n      <td>11659</td>\n      <td>7935.657715</td>\n    </tr>\n    <tr>\n      <th>77</th>\n      <td>12502</td>\n      <td>7935.657715</td>\n    </tr>\n    <tr>\n      <th>78</th>\n      <td>13280</td>\n      <td>7935.657715</td>\n    </tr>\n    <tr>\n      <th>79</th>\n      <td>14069</td>\n      <td>7935.657715</td>\n    </tr>\n    <tr>\n      <th>80</th>\n      <td>14982</td>\n      <td>7935.657715</td>\n    </tr>\n    <tr>\n      <th>81</th>\n      <td>15697</td>\n      <td>7935.657715</td>\n    </tr>\n    <tr>\n      <th>82</th>\n      <td>16199</td>\n      <td>7935.657715</td>\n    </tr>\n    <tr>\n      <th>83</th>\n      <td>16902</td>\n      <td>7935.657715</td>\n    </tr>\n  </tbody>\n</table>\n</div>"
     },
     "execution_count": 7,
     "metadata": {},
     "output_type": "execute_result"
    }
   ],
   "source": [
    "x_train, x_test, y_train, y_test = train_test_split(analytics_br.dfDeAtributosPrecisao,analytics_br.dfDeAtributoDesejado, test_size=(analytics_br.porcentagem_teste / 100),shuffle=False);\n",
    "y_pred = analytics_br.xGBoostRegressor.predict(x_test);  # Realiza a predição de acordo com o X de teste\n",
    "df = pd.DataFrame({'Atual': y_test['deaths'], 'Predição': y_pred})\n",
    "df"
   ],
   "metadata": {
    "collapsed": false,
    "pycharm": {
     "name": "#%%\n"
    }
   }
  },
  {
   "cell_type": "code",
   "execution_count": 8,
   "outputs": [
    {
     "data": {
      "text/plain": "<matplotlib.axes._subplots.AxesSubplot at 0x2619c2815c0>"
     },
     "execution_count": 8,
     "metadata": {},
     "output_type": "execute_result"
    },
    {
     "data": {
      "text/plain": "<Figure size 432x288 with 1 Axes>",
      "image/png": "[encoded data removed]"
     },
     "metadata": {
      "needs_background": "light"
     },
     "output_type": "display_data"
    }
   ],
   "source": [
    "df.plot()"
   ],
   "metadata": {
    "collapsed": false,
    "pycharm": {
     "name": "#%%\n"
    }
   }
  },
  {
   "cell_type": "code",
   "source": [
    "lastIndex = analytics_br.df.tail(1).index.item() + 1;\n",
    "x_forecast = [];\n",
    "for i in range(10):\n",
    "    x_forecast.append(i + lastIndex);\n",
    "x_forecast = DataFrame(columns={'date'}, data=x_forecast)\n",
    "x_forecast.head(5)"
   ],
   "metadata": {
    "collapsed": false,
    "pycharm": {
     "name": "#%%\n"
    }
   },
   "execution_count": 9,
   "outputs": [
    {
     "data": {
      "text/plain": "   date\n0    84\n1    85\n2    86\n3    87\n4    88",
      "text/html": "<div>\n<style scoped>\n    .dataframe tbody tr th:only-of-type {\n        vertical-align: middle;\n    }\n\n    .dataframe tbody tr th {\n        vertical-align: top;\n    }\n\n    .dataframe thead th {\n        text-align: right;\n    }\n</style>\n<table border=\"1\" class=\"dataframe\">\n  <thead>\n    <tr style=\"text-align: right;\">\n      <th></th>\n      <th>date</th>\n    </tr>\n  </thead>\n  <tbody>\n    <tr>\n      <th>0</th>\n      <td>84</td>\n    </tr>\n    <tr>\n      <th>1</th>\n      <td>85</td>\n    </tr>\n    <tr>\n      <th>2</th>\n      <td>86</td>\n    </tr>\n    <tr>\n      <th>3</th>\n      <td>87</td>\n    </tr>\n    <tr>\n      <th>4</th>\n      <td>88</td>\n    </tr>\n  </tbody>\n</table>\n</div>"
     },
     "execution_count": 9,
     "metadata": {},
     "output_type": "execute_result"
    }
   ]
  },
  {
   "cell_type": "code",
   "execution_count": 10,
   "outputs": [],
   "source": [
    "y_forecast = analytics_br.xGBoostRegressor.predict(x_forecast);  # Realiza a predição de acordo com o X de teste"
   ],
   "metadata": {
    "collapsed": false,
    "pycharm": {
     "name": "#%%\n"
    }
   }
  },
  {
   "cell_type": "code",
   "execution_count": 11,
   "outputs": [
    {
     "data": {
      "text/plain": "array([7935.6577, 7935.6577, 7935.6577, 7935.6577, 7935.6577, 7935.6577,\n       7935.6577, 7935.6577, 7935.6577, 7935.6577], dtype=float32)"
     },
     "execution_count": 11,
     "metadata": {},
     "output_type": "execute_result"
    }
   ],
   "source": [
    "y_forecast"
   ],
   "metadata": {
    "collapsed": false,
    "pycharm": {
     "name": "#%%\n"
    }
   }
  },
  {
   "cell_type": "markdown",
   "source": [
    "https://xgboost.readthedocs.io/en/latest/\n",
    "\n",
    "https://www.kaggle.com/c/web-traffic-time-series-forecasting/discussion/38352"
   ],
   "metadata": {
    "collapsed": false,
    "pycharm": {
     "name": "#%% md\n"
    }
   }
  }
 ],
 "metadata": {
  "colab": {
   "collapsed_sections": [],
   "name": "Live Regressão.ipynb",
   "provenance": [],
   "version": "0.3.2"
  },
  "kernelspec": {
   "display_name": "Python 3",
   "language": "python",
   "name": "python3"
  },
  "language_info": {
   "codemirror_mode": {
    "name": "ipython",
    "version": 3
   },
   "file_extension": ".py",
   "mimetype": "text/x-python",
   "name": "python",
   "nbconvert_exporter": "python",
   "pygments_lexer": "ipython3",
   "version": "3.7.3"
  }
 },
 "nbformat": 4,
 "nbformat_minor": 1
}