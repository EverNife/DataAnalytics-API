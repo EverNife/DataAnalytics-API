{
 "cells": [
  {
   "cell_type": "markdown",
   "metadata": {
    "colab_type": "text",
    "id": "cRFS-9oVMP7i"
   },
   "source": [
    "# FCT Unesp - TCC Treino 2\n",
    "Aluno: Pétrus Antonio Bárbosa Pradella\n",
    "\n",
    "TCC2 - Treinando análise preditiva para dados de transações comerciais.\n",
    "\n",
    "Teste 1\n",
    "    - DataSet Utilizado: BigMart Sales Data\n",
    "    - Fonte: Kaggle\n",
    "    - Link: https://www.kaggle.com/brijbhushannanda1979/bigmart-sales-data\n",
    "    \n",
    "Caracteristicas gerais do Dataset:\n",
    "\n",
    "    - Número de Instancias: 14204\n",
    "    - Número de Atributos: 11\n",
    "    - Estatisticas de Uso em 18/09/2019 (kaggle):\n",
    "        23,852 views\n",
    "        5,934 downloads\n"
   ]
  },
  {
   "cell_type": "markdown",
   "metadata": {
    "colab_type": "text",
    "id": "skrcOn_Iy9_c"
   },
   "source": [
    "### Importando as bibliotecas necessárias"
   ]
  },
  {
   "cell_type": "code",
   "execution_count": 1,
   "metadata": {
    "pycharm": {
     "is_executing": false,
     "name": "#%%\n"
    }
   },
   "outputs": [],
   "source": [
    "from myownapi.AnalyticsLR import AnalyticsLR;\n",
    "\n",
    "analytics = AnalyticsLR();"
   ]
  },
  {
   "cell_type": "markdown",
   "metadata": {
    "colab_type": "text",
    "id": "JIsmWZCKweGm",
    "pycharm": {
     "name": "#%% md\n"
    }
   },
   "source": [
    "### Carregando a base de dados"
   ]
  },
  {
   "cell_type": "code",
   "execution_count": 2,
   "metadata": {
    "colab": {},
    "colab_type": "code",
    "id": "sufXkyjjvT9c",
    "pycharm": {
     "is_executing": false
    }
   },
   "outputs": [
    {
     "name": "stdout",
     "text": [
      "Iniciando leitura do arquivo:\n --> C:/Users/Petrus/Desktop/UNESP/Docs 2016-2020/2019/Segundo Semestre/TCC2/TCC BigData Analytics/Treino6/Train.csv\nArquivo lido com sucesso!\nIniciando leitura do arquivo:\n --> C:/Users/Petrus/Desktop/UNESP/Docs 2016-2020/2019/Segundo Semestre/TCC2/TCC BigData Analytics/Treino6/Test.csv\nArquivo lido com sucesso!\n"
     ],
     "output_type": "stream"
    },
    {
     "data": {
      "text/plain": "  Item_Fat_Content Item_Identifier  Item_MRP  Item_Outlet_Sales  \\\n0          Low Fat           FDA15  249.8092          3735.1380   \n1          Regular           DRC01   48.2692           443.4228   \n2          Low Fat           FDN15  141.6180          2097.2700   \n3          Regular           FDX07  182.0950           732.3800   \n4          Low Fat           NCD19   53.8614           994.7052   \n\n               Item_Type  Item_Visibility  Item_Weight  \\\n0                  Dairy         0.016047         9.30   \n1            Soft Drinks         0.019278         5.92   \n2                   Meat         0.016760        17.50   \n3  Fruits and Vegetables         0.000000        19.20   \n4              Household         0.000000         8.93   \n\n   Outlet_Establishment_Year Outlet_Identifier Outlet_Location_Type  \\\n0                       1999            OUT049               Tier 1   \n1                       2009            OUT018               Tier 3   \n2                       1999            OUT049               Tier 1   \n3                       1998            OUT010               Tier 3   \n4                       1987            OUT013               Tier 3   \n\n  Outlet_Size        Outlet_Type  \n0      Medium  Supermarket Type1  \n1      Medium  Supermarket Type2  \n2      Medium  Supermarket Type1  \n3         NaN      Grocery Store  \n4        High  Supermarket Type1  ",
      "text/html": "<div>\n<style scoped>\n    .dataframe tbody tr th:only-of-type {\n        vertical-align: middle;\n    }\n\n    .dataframe tbody tr th {\n        vertical-align: top;\n    }\n\n    .dataframe thead th {\n        text-align: right;\n    }\n</style>\n<table border=\"1\" class=\"dataframe\">\n  <thead>\n    <tr style=\"text-align: right;\">\n      <th></th>\n      <th>Item_Fat_Content</th>\n      <th>Item_Identifier</th>\n      <th>Item_MRP</th>\n      <th>Item_Outlet_Sales</th>\n      <th>Item_Type</th>\n      <th>Item_Visibility</th>\n      <th>Item_Weight</th>\n      <th>Outlet_Establishment_Year</th>\n      <th>Outlet_Identifier</th>\n      <th>Outlet_Location_Type</th>\n      <th>Outlet_Size</th>\n      <th>Outlet_Type</th>\n    </tr>\n  </thead>\n  <tbody>\n    <tr>\n      <th>0</th>\n      <td>Low Fat</td>\n      <td>FDA15</td>\n      <td>249.8092</td>\n      <td>3735.1380</td>\n      <td>Dairy</td>\n      <td>0.016047</td>\n      <td>9.30</td>\n      <td>1999</td>\n      <td>OUT049</td>\n      <td>Tier 1</td>\n      <td>Medium</td>\n      <td>Supermarket Type1</td>\n    </tr>\n    <tr>\n      <th>1</th>\n      <td>Regular</td>\n      <td>DRC01</td>\n      <td>48.2692</td>\n      <td>443.4228</td>\n      <td>Soft Drinks</td>\n      <td>0.019278</td>\n      <td>5.92</td>\n      <td>2009</td>\n      <td>OUT018</td>\n      <td>Tier 3</td>\n      <td>Medium</td>\n      <td>Supermarket Type2</td>\n    </tr>\n    <tr>\n      <th>2</th>\n      <td>Low Fat</td>\n      <td>FDN15</td>\n      <td>141.6180</td>\n      <td>2097.2700</td>\n      <td>Meat</td>\n      <td>0.016760</td>\n      <td>17.50</td>\n      <td>1999</td>\n      <td>OUT049</td>\n      <td>Tier 1</td>\n      <td>Medium</td>\n      <td>Supermarket Type1</td>\n    </tr>\n    <tr>\n      <th>3</th>\n      <td>Regular</td>\n      <td>FDX07</td>\n      <td>182.0950</td>\n      <td>732.3800</td>\n      <td>Fruits and Vegetables</td>\n      <td>0.000000</td>\n      <td>19.20</td>\n      <td>1998</td>\n      <td>OUT010</td>\n      <td>Tier 3</td>\n      <td>NaN</td>\n      <td>Grocery Store</td>\n    </tr>\n    <tr>\n      <th>4</th>\n      <td>Low Fat</td>\n      <td>NCD19</td>\n      <td>53.8614</td>\n      <td>994.7052</td>\n      <td>Household</td>\n      <td>0.000000</td>\n      <td>8.93</td>\n      <td>1987</td>\n      <td>OUT013</td>\n      <td>Tier 3</td>\n      <td>High</td>\n      <td>Supermarket Type1</td>\n    </tr>\n  </tbody>\n</table>\n</div>"
     },
     "metadata": {},
     "output_type": "execute_result",
     "execution_count": 2
    }
   ],
   "source": [
    "onlineMode = False;\n",
    "\n",
    "if onlineMode:\n",
    "    dataset_folder_url = \"http://downloads.finalcraft.com.br/tcc/BigMartSalesData\";\n",
    "else:\n",
    "    dataset_folder_url = \"C:/Users/Petrus/Desktop/UNESP/Docs 2016-2020/2019/Segundo Semestre/TCC2/TCC BigData Analytics/Treino6\";\n",
    "\n",
    "dataset_file_train = dataset_folder_url + '/Train.csv';\n",
    "dataset_file_test = dataset_folder_url + '/Test.csv';\n",
    "\n",
    "dataset_train = analytics.read_csv(dataset_file_train);\n",
    "dataset_test = analytics.read_csv(dataset_file_test);\n",
    "\n",
    "import pandas as pd;\n",
    "result = pd.concat([dataset_train,dataset_test], sort=True);\n",
    "\n",
    "analytics.setDataframe(result);\n",
    "\n",
    "analytics.df.head(5)"
   ]
  },
  {
   "cell_type": "markdown",
   "metadata": {
    "colab_type": "text",
    "id": "kCTw2VUhw34i"
   },
   "source": [
    "### Filtrando os atributos Normalizados"
   ]
  },
  {
   "cell_type": "code",
   "execution_count": 3,
   "metadata": {
    "pycharm": {
     "is_executing": false
    }
   },
   "outputs": [
    {
     "data": {
      "text/plain": "Index(['Item_Fat_Content', 'Item_Identifier', 'Item_MRP', 'Item_Outlet_Sales',\n       'Item_Type', 'Item_Visibility', 'Item_Weight',\n       'Outlet_Establishment_Year', 'Outlet_Identifier',\n       'Outlet_Location_Type', 'Outlet_Size', 'Outlet_Type'],\n      dtype='object')"
     },
     "metadata": {},
     "output_type": "execute_result",
     "execution_count": 3
    }
   ],
   "source": [
    "analytics.columns()\n"
   ]
  },
  {
   "cell_type": "code",
   "execution_count": null,
   "metadata": {
    "pycharm": {
     "is_executing": false
    }
   },
   "outputs": [],
   "source": [
    "analytics."
   ]
  },
  {
   "cell_type": "code",
   "execution_count": null,
   "metadata": {
    "pycharm": {
     "is_executing": false
    }
   },
   "outputs": [],
   "source": [
    "#n_produtos = dataset_filtered[['Product_Code']].count().sum();  # Dá erro pois Product_code virou um index_de_coluna e não mais uma coluna separada!\n",
    "\n",
    "n_produtos = dataset_filtered.shape[0]; #Como fizemos a removeção da coluna de Product_code não dá mais para contar ela, contudo o número de produtos é o mesmo que o número de linhas!\n",
    "n_semanas = len(dataset_filtered.columns);  #Se não tivesse removido a primeira coluna, deveria ser [nColumns - 1];\n",
    "\n",
    "print(\"Número de Produtos Cadastrados: \", n_produtos)\n",
    "print(\"Número de Semanas Contabilizadas: \", n_semanas)\n"
   ]
  },
  {
   "cell_type": "markdown",
   "metadata": {},
   "source": [
    "### Aplicando lógica de regressão linear! (Ténicas usada \"Spearman\")"
   ]
  },
  {
   "cell_type": "code",
   "execution_count": null,
   "metadata": {
    "pycharm": {
     "is_executing": false
    }
   },
   "outputs": [],
   "source": [
    "#Aplicando o método Spearman\n",
    "# Mais informações Tecnicas: https://kite.com/python/examples/665/scipy-compute-the-spearman-correlation\n",
    "# Mais informações Pedagógicas: https://statistics.laerd.com/statistical-guides/spearmans-rank-order-correlation-statistical-guide.php\n",
    "\n",
    "#A ténicas Spearman é recomendada para esse caso pois trata-se de um regressão linear para um dataset que possui apenas dois atributos a serem analisados.\n",
    "\n",
    "correlacao_produtos = dataset_filtered.transpose().corr(method='spearman')\n",
    "print(correlacao_produtos.shape)\n",
    "correlacao_produtos.head(5)\n",
    "\n"
   ]
  },
  {
   "cell_type": "markdown",
   "metadata": {},
   "source": [
    "### Procurando valores com coeficiente alto!\n"
   ]
  },
  {
   "cell_type": "code",
   "execution_count": null,
   "metadata": {
    "pycharm": {
     "is_executing": false
    }
   },
   "outputs": [],
   "source": [
    "set_de_coeficiente_alto = set() # record the individual Product_Code values involved\n",
    "pares_de_coeficiente_alto = [] # record the Product_Code pairs and the correlation value\n",
    "\n",
    "for row in correlacao_produtos:\n",
    "    for col in correlacao_produtos.columns:\n",
    "        if row < col:\n",
    "            \n",
    "            valor_de_correlacao = correlacao_produtos.loc[row, col]\n",
    "\n",
    "            if abs(valor_de_correlacao) >= limiar_de_correlacao:\n",
    "                # Se o valor é maior que o limiar, salvar ele!\n",
    "                #print(row)\n",
    "                #print(col)\n",
    "                #print(corr_val)\n",
    "                pares_de_coeficiente_alto.append((row, col, valor_de_correlacao))\n",
    "                #Adiciona a linha e a coluna\n",
    "                set_de_coeficiente_alto.add(row) \n",
    "                set_de_coeficiente_alto.add(col)\n",
    "            \n",
    "#print(high_corr_list)\n",
    "# Convert list to a dataframe\n",
    "high_correlation_dataframe = pd.DataFrame(pares_de_coeficiente_alto, columns=['Product_1', 'Product_2', 'Corr'])\n",
    "print(f\"Número de produtos com coeficientes de correlação >= {limiar_de_correlacao} ou <= -{limiar_de_correlacao}: {high_correlation_dataframe.shape[0]}\")\n",
    "print(f\"Número total de produtos: {len(set_de_coeficiente_alto)}\")\n",
    "high_correlation_dataframe.head(5)"
   ]
  },
  {
   "cell_type": "markdown",
   "metadata": {},
   "source": [
    "### Analisando popularidade dos itens (maior e menor venda)\n"
   ]
  },
  {
   "cell_type": "code",
   "execution_count": null,
   "metadata": {
    "pycharm": {
     "is_executing": false
    }
   },
   "outputs": [],
   "source": [
    "n_produtos = dataset_filtered.shape[0];\n",
    "n_semanas = len(dataset_filtered.columns);\n",
    "\n",
    "print(\"Número de Produtos Cadastrados: \", n_produtos)\n",
    "print(\"Número de Semanas Contabilizadas: \", n_semanas)\n",
    "print(' ')\n",
    "print(' ')\n",
    "\n",
    "num_top = math.floor(param_top_perc * n_produtos)\n",
    "print(f'Encontrar os [{num_top}] produtos mais e menos populares com base na média das vendas semanáis:')\n",
    "\n",
    "media_venda_mensal = dataset_filtered.mean(axis=1)\n",
    "\n",
    "produtos_mais_vendidos = media_venda_mensal.nlargest(n=num_top).index.values.tolist()\n",
    "produtos_menos_vendidos = media_venda_mensal.nsmallest(n=num_top).index.values.tolist()\n",
    "\n",
    "dataset_mais_vendidos = dataset_filtered[dataset_filtered.index.isin(produtos_mais_vendidos)]\n",
    "dataset_menos_vendidos = dataset_filtered[dataset_filtered.index.isin(produtos_menos_vendidos)]"
   ]
  },
  {
   "cell_type": "code",
   "execution_count": 2,
   "metadata": {
    "pycharm": {
     "is_executing": false
    }
   },
   "outputs": [
    {
     "traceback": [
      "\u001b[1;31m---------------------------------------------------------------------------\u001b[0m",
      "\u001b[1;31mNameError\u001b[0m                                 Traceback (most recent call last)",
      "\u001b[1;32m<ipython-input-2-944db5a8818b>\u001b[0m in \u001b[0;36m<module>\u001b[1;34m\u001b[0m\n\u001b[0;32m      1\u001b[0m \u001b[1;33m\u001b[0m\u001b[0m\n\u001b[0;32m      2\u001b[0m \u001b[1;33m\u001b[0m\u001b[0m\n\u001b[1;32m----> 3\u001b[1;33m \u001b[0mprint\u001b[0m\u001b[1;33m(\u001b[0m\u001b[1;34mf\"Foram encontrados os [{num_top}] produtos mais populares: {dataset_mais_vendidos.shape[0]}\"\u001b[0m\u001b[1;33m)\u001b[0m\u001b[1;33m\u001b[0m\u001b[1;33m\u001b[0m\u001b[0m\n\u001b[0m\u001b[0;32m      4\u001b[0m \u001b[0mdataset_mais_vendidos\u001b[0m\u001b[1;33m.\u001b[0m\u001b[0mhead\u001b[0m\u001b[1;33m(\u001b[0m\u001b[1;36m5\u001b[0m\u001b[1;33m)\u001b[0m\u001b[1;33m\u001b[0m\u001b[1;33m\u001b[0m\u001b[0m\n\u001b[0;32m      5\u001b[0m \u001b[1;33m\u001b[0m\u001b[0m\n",
      "\u001b[1;31mNameError\u001b[0m: name 'num_top' is not defined"
     ],
     "ename": "NameError",
     "evalue": "name 'num_top' is not defined",
     "output_type": "error"
    }
   ],
   "source": [
    "\n",
    "print(f\"Foram encontrados os [{num_top}] produtos mais populares: {dataset_mais_vendidos.shape[0]}\")\n",
    "dataset_mais_vendidos.head(5)"
   ]
  },
  {
   "cell_type": "code",
   "execution_count": null,
   "metadata": {
    "pycharm": {
     "is_executing": false
    }
   },
   "outputs": [],
   "source": [
    "\n",
    "print(f\"Foram encontrados os [{num_top}] produtos menos populares: {dataset_menos_vendidos.shape[0]}\")\n",
    "dataset_menos_vendidos.head(5)"
   ]
  }
 ],
 "metadata": {
  "colab": {
   "collapsed_sections": [],
   "name": "Live Regressão.ipynb",
   "provenance": [],
   "version": "0.3.2"
  },
  "kernelspec": {
   "display_name": "Python 3",
   "language": "python",
   "name": "python3"
  },
  "language_info": {
   "codemirror_mode": {
    "name": "ipython",
    "version": 3
   },
   "file_extension": ".py",
   "mimetype": "text/x-python",
   "name": "python",
   "nbconvert_exporter": "python",
   "pygments_lexer": "ipython3",
   "version": "3.7.3"
  },
  "pycharm": {
   "stem_cell": {
    "cell_type": "raw",
    "source": [],
    "metadata": {
     "collapsed": false
    }
   }
  }
 },
 "nbformat": 4,
 "nbformat_minor": 1
}