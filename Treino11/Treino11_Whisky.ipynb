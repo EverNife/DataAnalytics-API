{
 "cells": [
  {
   "cell_type": "markdown",
   "source": [
    "# FCT Unesp\n",
    "Aluno: Pétrus Antonio Bárbosa Pradella"
   ],
   "metadata": {
    "collapsed": false
   }
  },
  {
   "cell_type": "code",
   "execution_count": 2,
   "outputs": [
    {
     "name": "stdout",
     "output_type": "stream",
     "text": [
      "Iniciando leitura do arquivo:\n",
      " --> C:/Users/Petrus/Desktop/UNESP/Docs 2016-2020/2019/Segundo Semestre/TCC2/TCC BigData Analytics/Treino11/whiskeysales.csv\n",
      "Arquivo lido com sucesso!\n",
      "Um total de 1337 valores nulos foram encontrados.\n",
      "O valor desses atributos nulos foram definidos para : 0\n"
     ]
    }
   ],
   "source": [
    "#Dataset rela de uma empresa \"The IWSR\"\n",
    "from myownapi.AnalyticsARIMA import AnalyticsARIMA;\n",
    "\n",
    "analytics = AnalyticsARIMA();\n",
    "\n",
    "dataset_file = \"C:/Users/Petrus/Desktop/UNESP/Docs 2016-2020/2019/Segundo Semestre/TCC2/TCC BigData Analytics/Treino11/whiskeysales.csv\";\n",
    "\n",
    "analytics.read_csv(dataset_file);\n",
    "analytics.tratarVariaveisZeradasComMediaDasOutras('Cases');\n",
    "#analytics.tratarVariaveisNulasComValorEspecifico('Cases',0);"
   ],
   "metadata": {
    "collapsed": false,
    "pycharm": {
     "name": "#%%\n"
    }
   }
  },
  {
   "cell_type": "code",
   "execution_count": 3,
   "outputs": [
    {
     "name": "stdout",
     "output_type": "stream",
     "text": [
      "\n",
      "# ==============================================================================================================\n",
      "# Preparando quantidade de treino.\n",
      "# ==============================================================================================================\n",
      "\n",
      "\n",
      "[(0, 0, 0, 1), (0, 0, 1, 1), (0, 1, 0, 1), (0, 1, 1, 1), (1, 0, 0, 1), (1, 0, 1, 1), (1, 1, 0, 1), (1, 1, 1, 1)]\n",
      "# ==============================================================================================================\n",
      "# Escolhendo a melhor combinação de parametros arima.\n",
      "# ==============================================================================================================\n",
      "\n",
      "\n",
      "ARIMA(0, 0, 0)x(0, 0, 0, 1)x1 - AIC:868.5314901705532\n",
      "ARIMA(0, 0, 0)x(0, 0, 1, 1)x1 - AIC:2512398.4937899546\n",
      "ARIMA(0, 0, 0)x(0, 1, 0, 1)x1 - AIC:711.2872404451168\n",
      "ARIMA(0, 0, 0)x(0, 1, 1, 1)x1 - AIC:673.7238117619603\n",
      "ARIMA(0, 0, 0)x(1, 0, 0, 1)x1 - AIC:695.0139056228955\n",
      "ARIMA(0, 0, 0)x(1, 0, 1, 1)x1 - AIC:669.5199725115054\n",
      "ARIMA(0, 0, 0)x(1, 1, 0, 1)x1 - AIC:679.7271260983697\n",
      "ARIMA(0, 0, 0)x(1, 1, 1, 1)x1 - AIC:651.8494185759264\n",
      "ARIMA(0, 0, 1)x(0, 0, 0, 1)x1 - AIC:2512398.4937899546\n",
      "ARIMA(0, 0, 1)x(0, 0, 1, 1)x1 - AIC:2357646.3773670965\n",
      "ARIMA(0, 0, 1)x(0, 1, 0, 1)x1 - AIC:673.7238117619603\n",
      "ARIMA(0, 0, 1)x(0, 1, 1, 1)x1 - AIC:646.8157058027289\n",
      "ARIMA(0, 0, 1)x(1, 0, 0, 1)x1 - AIC:856.4842895289897\n",
      "ARIMA(0, 0, 1)x(1, 0, 1, 1)x1 - AIC:826.0130430623369\n",
      "ARIMA(0, 0, 1)x(1, 1, 0, 1)x1 - AIC:669.8652578205199\n",
      "ARIMA(0, 0, 1)x(1, 1, 1, 1)x1 - AIC:644.0783074505885\n",
      "ARIMA(0, 1, 0)x(0, 0, 0, 1)x1 - AIC:711.2872404451168\n",
      "ARIMA(0, 1, 0)x(0, 0, 1, 1)x1 - AIC:673.7238117619603\n",
      "ARIMA(0, 1, 0)x(0, 1, 0, 1)x1 - AIC:651.8830968253144\n",
      "ARIMA(0, 1, 0)x(0, 1, 1, 1)x1 - AIC:624.1830084541557\n",
      "ARIMA(0, 1, 0)x(1, 0, 0, 1)x1 - AIC:679.7271260983697\n",
      "ARIMA(0, 1, 0)x(1, 0, 1, 1)x1 - AIC:651.8494185759264\n",
      "ARIMA(0, 1, 0)x(1, 1, 0, 1)x1 - AIC:652.7912300742507\n",
      "ARIMA(0, 1, 0)x(1, 1, 1, 1)x1 - AIC:625.9875425390496\n",
      "ARIMA(0, 1, 1)x(0, 0, 0, 1)x1 - AIC:673.7238117619603\n",
      "ARIMA(0, 1, 1)x(0, 0, 1, 1)x1 - AIC:646.8157058027289\n",
      "ARIMA(0, 1, 1)x(0, 1, 0, 1)x1 - AIC:624.1830084541557\n",
      "ARIMA(0, 1, 1)x(0, 1, 1, 1)x1 - AIC:600.6215126325103\n",
      "ARIMA(0, 1, 1)x(1, 0, 0, 1)x1 - AIC:669.8652578205199\n",
      "ARIMA(0, 1, 1)x(1, 0, 1, 1)x1 - AIC:644.0783074505885\n",
      "ARIMA(0, 1, 1)x(1, 1, 0, 1)x1 - AIC:626.0913101986246\n",
      "ARIMA(0, 1, 1)x(1, 1, 1, 1)x1 - AIC:595.4863856768095\n",
      "ARIMA(1, 0, 0)x(0, 0, 0, 1)x1 - AIC:695.0139056228955\n",
      "ARIMA(1, 0, 0)x(0, 0, 1, 1)x1 - AIC:704.962633620898\n",
      "ARIMA(1, 0, 0)x(0, 1, 0, 1)x1 - AIC:679.7271260983697\n",
      "ARIMA(1, 0, 0)x(0, 1, 1, 1)x1 - AIC:651.7306514793438\n",
      "ARIMA(1, 0, 0)x(1, 0, 0, 1)x1 - AIC:684.7445347358091\n",
      "ARIMA(1, 0, 0)x(1, 0, 1, 1)x1 - AIC:671.4541633957753\n",
      "ARIMA(1, 0, 0)x(1, 1, 0, 1)x1 - AIC:660.9204502429443\n",
      "ARIMA(1, 0, 0)x(1, 1, 1, 1)x1 - AIC:653.7096676990334\n",
      "ARIMA(1, 0, 1)x(0, 0, 0, 1)x1 - AIC:669.5199725115054\n",
      "ARIMA(1, 0, 1)x(0, 0, 1, 1)x1 - AIC:678.5716364680852\n",
      "ARIMA(1, 0, 1)x(0, 1, 0, 1)x1 - AIC:651.8494185759264\n",
      "ARIMA(1, 0, 1)x(0, 1, 1, 1)x1 - AIC:626.436266352606\n",
      "ARIMA(1, 0, 1)x(1, 0, 0, 1)x1 - AIC:671.5198657114895\n",
      "ARIMA(1, 0, 1)x(1, 0, 1, 1)x1 - AIC:659.0682056847827\n",
      "ARIMA(1, 0, 1)x(1, 1, 0, 1)x1 - AIC:653.8291687676185\n",
      "ARIMA(1, 0, 1)x(1, 1, 1, 1)x1 - AIC:633.9811256581308\n",
      "ARIMA(1, 1, 0)x(0, 0, 0, 1)x1 - AIC:679.7271260983697\n",
      "ARIMA(1, 1, 0)x(0, 0, 1, 1)x1 - AIC:651.7306514793438\n",
      "ARIMA(1, 1, 0)x(0, 1, 0, 1)x1 - AIC:652.7912300742507\n",
      "ARIMA(1, 1, 0)x(0, 1, 1, 1)x1 - AIC:625.977276666392\n",
      "ARIMA(1, 1, 0)x(1, 0, 0, 1)x1 - AIC:660.9204502429443\n",
      "ARIMA(1, 1, 0)x(1, 0, 1, 1)x1 - AIC:653.7096676990334\n",
      "ARIMA(1, 1, 0)x(1, 1, 0, 1)x1 - AIC:628.3956610297466\n",
      "ARIMA(1, 1, 0)x(1, 1, 1, 1)x1 - AIC:627.9525678166733\n",
      "ARIMA(1, 1, 1)x(0, 0, 0, 1)x1 - AIC:651.8494185759264\n",
      "ARIMA(1, 1, 1)x(0, 0, 1, 1)x1 - AIC:626.436266352606\n",
      "ARIMA(1, 1, 1)x(0, 1, 0, 1)x1 - AIC:625.9875425390496\n",
      "ARIMA(1, 1, 1)x(0, 1, 1, 1)x1 - AIC:595.12831226832\n",
      "ARIMA(1, 1, 1)x(1, 0, 0, 1)x1 - AIC:653.8291687676185\n",
      "ARIMA(1, 1, 1)x(1, 0, 1, 1)x1 - AIC:633.9811256581308\n",
      "ARIMA(1, 1, 1)x(1, 1, 0, 1)x1 - AIC:627.9629711773437\n",
      "ARIMA(1, 1, 1)x(1, 1, 1, 1)x1 - AIC:603.7680103207433\n",
      "\n",
      "\n",
      "\n",
      "O menor valor encontrado par ao AIC é: 595.12831226832\n",
      "Utilizando a combinação: ARIMA(1, 1, 1)x(0, 1, 1, 1)x1\n",
      "# ==============================================================================================================\n",
      "# Ajustando Modelo.\n",
      "# ==============================================================================================================\n",
      "\n",
      "\n",
      "\n",
      "\n",
      "\n",
      "==============================================================================\n",
      "                 coef    std err          z      P>|z|      [0.025      0.975]\n",
      "------------------------------------------------------------------------------\n",
      "ar.L1         -0.7560      0.059    -12.763      0.000      -0.872      -0.640\n",
      "ma.L1          1.1960      0.281      4.251      0.000       0.645       1.747\n",
      "ma.S.L1       -0.5765      0.358     -1.609      0.108      -1.279       0.126\n",
      "sigma2      3.238e+10   8.14e-13   3.98e+22      0.000    3.24e+10    3.24e+10\n",
      "==============================================================================\n"
     ]
    },
    {
     "name": "stderr",
     "output_type": "stream",
     "text": [
      "C:\\Users\\Petrus\\Anaconda3\\lib\\site-packages\\statsmodels\\base\\model.py:508: ConvergenceWarning: Maximum Likelihood optimization failed to converge. Check mle_retvals\n",
      "  \"Check mle_retvals\", ConvergenceWarning)\n",
      "C:\\Users\\Petrus\\Anaconda3\\lib\\site-packages\\statsmodels\\base\\model.py:508: ConvergenceWarning: Maximum Likelihood optimization failed to converge. Check mle_retvals\n",
      "  \"Check mle_retvals\", ConvergenceWarning)\n"
     ]
    }
   ],
   "source": [
    "import datetime\n",
    "def yearToDate(year):\n",
    "    return datetime.datetime(year,1,1);\n",
    "analytics.arimaDefinirColunaObjetivo(nomeDaColunaObjetivo='Cases',nomeDaColunaDeDatas='Year', funcaoDeConversaDeDatas=yearToDate)\n",
    "analytics.aplicarARIMA(verbose=True,ARIMA_SASONALIDADE=1);"
   ],
   "metadata": {
    "collapsed": false,
    "pycharm": {
     "name": "#%%\n"
    }
   }
  },
  {
   "cell_type": "code",
   "execution_count": 3,
   "outputs": [],
   "source": [],
   "metadata": {
    "collapsed": false,
    "pycharm": {
     "name": "#%%\n"
    }
   }
  },
  {
   "cell_type": "code",
   "execution_count": 1,
   "outputs": [
    {
     "ename": "NameError",
     "evalue": "name 'analytics' is not defined",
     "output_type": "error",
     "traceback": [
      "\u001B[1;31m---------------------------------------------------------------------------\u001B[0m",
      "\u001B[1;31mNameError\u001B[0m                                 Traceback (most recent call last)",
      "\u001B[1;32m<ipython-input-1-994c9f674ce3>\u001B[0m in \u001B[0;36m<module>\u001B[1;34m\u001B[0m\n\u001B[0;32m      1\u001B[0m \u001B[1;33m\u001B[0m\u001B[0m\n\u001B[1;32m----> 2\u001B[1;33m \u001B[0manalytics\u001B[0m\u001B[1;33m.\u001B[0m\u001B[0mARIMAPrediction\u001B[0m\u001B[1;33m(\u001B[0m\u001B[1;33m)\u001B[0m\u001B[1;33m\u001B[0m\u001B[1;33m\u001B[0m\u001B[0m\n\u001B[0m\u001B[0;32m      3\u001B[0m \u001B[1;33m\u001B[0m\u001B[0m\n",
      "\u001B[1;31mNameError\u001B[0m: name 'analytics' is not defined"
     ]
    }
   ],
   "source": [
    "analytics.ARIMAPrediction('1-1-2010')"
   ],
   "metadata": {
    "collapsed": false,
    "pycharm": {
     "name": "#%%\n"
    }
   }
  },
  {
   "cell_type": "code",
   "execution_count": 4,
   "outputs": [],
   "source": [
    "\n"
   ],
   "metadata": {
    "collapsed": false,
    "pycharm": {
     "name": "#%%\n"
    }
   }
  }
 ],
 "metadata": {
  "colab": {
   "collapsed_sections": [],
   "name": "Live Regressão.ipynb",
   "provenance": [],
   "version": "0.3.2"
  },
  "kernelspec": {
   "display_name": "Python 3",
   "language": "python",
   "name": "python3"
  },
  "language_info": {
   "codemirror_mode": {
    "name": "ipython",
    "version": 3
   },
   "file_extension": ".py",
   "mimetype": "text/x-python",
   "name": "python",
   "nbconvert_exporter": "python",
   "pygments_lexer": "ipython3",
   "version": "3.7.3"
  }
 },
 "nbformat": 4,
 "nbformat_minor": 1
}